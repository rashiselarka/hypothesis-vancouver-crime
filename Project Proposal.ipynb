{
 "cells": [
  {
   "cell_type": "markdown",
   "metadata": {},
   "source": [
    "## STAT 201 GROUP PROJECT PROPOSAL: GROUP 12\n",
    "**Group Members:** Rashi Selarka, Medha Singh, Alice Zhang\n",
    "**A STATISTICAL INFERENCE ABOUT TIME OF OCCURRENCE OF COMPARABLE CRIMES**"
   ]
  },
  {
   "cell_type": "markdown",
   "metadata": {},
   "source": [
    "**INTRODUCTION :**\n",
    "\n",
    "Large-scale studies of crime data from the FBI demonstrates that violent crimes often happen at night (Bannister, 2019). This statement seems reasonable since the victims are easier targets and witnesses become unlikely. We wanted to test this statement, and take it a step further by examining how different types of crimes may correlate with the time they take place at, and if we can attempt to predict when they’ll take place by looking at (seemingly) similar crimes and testing if they occur at similar times.\n",
    "\n",
    "We have used the Vancouver crime data found on the Vancouver Police Department's website for our analysis. We plan use this data to calculate the estimated average time for which most of the comparable crimes in the dataset occur, and come up with a hypothesis test to see if these crime, in their time of occurence are actually comparable or not. Through this investigation, we hope to gain not just a better understanding of hypothesis testing, but also of the time of day we are more vulnerable to certain crimes (Brands, 2013).\n",
    "\n",
    "The large data set that we are using was obtained from the Vancouver Police Department: https://geodash.vpd.ca/opendata/ and consists of various attributes associated with the documentation from when the crime was recorded. This is a dataset of crime data on a year-by-year basis beginning in 2003. This data is designed to provide individuals with a general overview of incidents falling into several crime categories. We will be using these attributes to construct our model and we also aim to find out which of these attributes just seem comparbale, or are truly comparable. \n"
   ]
  },
  {
   "cell_type": "markdown",
   "metadata": {},
   "source": [
    "**Preliminary Results**\n",
    "\n",
    "* Demonstrate that the dataset can be read from the web into R.\n",
    "Note: The data had to be locally stored and loaded into the notebook since the website doesn't have an option to scrape it. It must be downloaded onto the server home to be accessed."
   ]
  },
  {
   "cell_type": "code",
   "execution_count": null,
   "metadata": {},
   "outputs": [],
   "source": [
    "library(tidyverse)\n",
    "library(repr)\n",
    "library(datateachr)\n",
    "library(digest)\n",
    "library(infer)\n",
    "library(gridExtra)\n",
    "library(cowplot)\n",
    "library(caret)"
   ]
  },
  {
   "cell_type": "code",
   "execution_count": null,
   "metadata": {},
   "outputs": [],
   "source": [
    "crime_data <- read_csv(\"/home/jupyter/crimedata_csv_all_years.csv\")"
   ]
  },
  {
   "cell_type": "code",
   "execution_count": null,
   "metadata": {},
   "outputs": [],
   "source": [
    "head(crime_data)"
   ]
  },
  {
   "cell_type": "markdown",
   "metadata": {},
   "source": [
    "* **TYPE:** The type of crime activities\n",
    "* BNE Commercial: (Commercial Break and Enter) Breaking and entering into a commercial property with intent to commit an offence\n",
    "* BNE Residential/Other: (Residential Break and Enter) Breaking and entering into a dwelling/house/apartment/garage with intent to commit an offence\n",
    "* Vehicle Collision or Pedestrian Struck (with Fatality): Includes primarily pedestrian or cyclist struck and killed by a vehicle. It also includes vehicle to vehicle fatal accidents, however these incidents are fewer in number when compared to the overall data set. Note: There is no neighbourhood information.\n",
    "* Vehicle Collision or Pedestrian Struck (with Injury): Includes all categories of vehicle involved accidents with injuries. This includes pedestrian and cyclist involved incidents with injuries. Note: There is no neighbourhood information\n",
    "* Homicide: A person, directly or indirectly, by any means, causes the death of another person.\n",
    "* Mischief: A person commits mischief that willfully causes malicious destruction, damage, or defacement of property. This also includes any public mischief towards another person.\n",
    "* Offence Against a Person: An attack on a person causing harm that may include usage of a weapon.\n",
    "* Other Theft: Theft of property that includes personal items (purse, wallet, cellphone, laptop, etc.), bicycle, etc.\n",
    "* Theft from Vehicle: Theft of property from a vehicle\n",
    "* Theft of Vehicle: Theft of a vehicle, motorcycle, or any motor vehicle\n",
    "* Theft of Bicycle: Theft of a bicycle Note: There is no neighbourhood information\n",
    "* **YEAR:** A four-digit field that indicates the year when the reported crime activity occurred\n",
    "* **MONTH:** A numeric field that indicates the month when the reported crime activity occurred\n",
    "* **DAY:** A two-digit field that indicates the day of the month when the reported crime activity occurred\n",
    "* **HOUR:** A two-digit field that indicates the hour time (in 24 hours format) when the reported crime activity occurred Note: This information is based on the findings of the police investigation. No time information will be provided for Offences Against a Person crime type\n",
    "* **MINUTE:** A two-digit field that indicates the minute when the reported crime activity occurred Note: This information is based on the findings of the police investigation. No time information will be provided for Offences Against a Person crime type\n",
    "* **HUNDRED_BLOCK:** Generalized location of the report crime activity \n",
    "* **NEIGHBOURHOOD:** The Vancouver Police Department uses the Statistics Canada definition of neighbourhoods within municipalities. Neighbourhoods within the City of Vancouver are based on the census tract (CT) concept within census metropolitan. \n",
    "* **X:** Coordinate values are projected in UTM Zone 10. All data must be considered offset and users should not interpret any locations as related to a specific person or specific property.\n",
    "* **Y:** Coordinate values are projected in UTM Zone 10. All data must be considered offset and users should not interpret any locations as related to a specific person or specific property.\n"
   ]
  },
  {
   "cell_type": "markdown",
   "metadata": {},
   "source": [
    "* **Here we clean and wrangle our data**\n",
    "\n",
    "Since we are focussing on the time of occurence of the data, we will select the columns of TYPE and HOUR. For our analysis we hve selected the two similar and comparable types of crimes as: \"Vehicle Collision or Pedestrian Struck (with Injury)\", \"Vehicle Collision or Pedestrian Struck (with Fatality)\"; \"Theft of Vehicle\" and \"Theft from Vehicle\".\n",
    "\n",
    "We also look at the frequency of see if the attributes are balanced or not, and if they are not, we plan to do that further on in the project. "
   ]
  },
  {
   "cell_type": "code",
   "execution_count": null,
   "metadata": {},
   "outputs": [],
   "source": [
    "crime_data_grouped <- crime_data %>%\n",
    "            group_by(TYPE) %>%\n",
    "            select(TYPE, HOUR) %>%\n",
    "            data.frame()\n",
    "\n",
    "\n",
    "crime_data_sort <- crime_data_grouped[ order( crime_data_grouped$HOUR), ] %>%\n",
    "                select(TYPE, HOUR)%>%\n",
    "                as.tibble()%>%\n",
    "                filter(TYPE == \"Vehicle Collision or Pedestrian Struck (with Injury)\" | \n",
    "                       TYPE == \"Vehicle Collision or Pedestrian Struck (with Fatality)\"|\n",
    "                       TYPE == \"Theft of Vehicle\" | \n",
    "                       TYPE == \"Theft from Vehicle\")\n",
    "head(crime_data_sort)\n",
    "tail(crime_data_sort)\n",
    "cd_count <- crime_data_sort %>%\n",
    "            group_by(TYPE) %>%\n",
    "            summarize(count=n())\n",
    "cd_count\n"
   ]
  },
  {
   "cell_type": "markdown",
   "metadata": {},
   "source": [
    "* **Here we visualize our data in a boxplot to get an idea about the center and the spread of the sample population**"
   ]
  },
  {
   "cell_type": "code",
   "execution_count": null,
   "metadata": {},
   "outputs": [],
   "source": [
    "#scale the plot \n",
    "options(repr.plot.width = 12, repr.plot.height = 12)\n",
    "cd_plot <- crime_data_sort %>%  \n",
    "    ggplot(aes(x = TYPE, y = HOUR)) + \n",
    "    geom_boxplot() + \n",
    "    ylab(\"hour of the day for the crime\") +\n",
    "    ggtitle(\"Boxplots of hours of day for different crimes\") +\n",
    "    theme(axis.text.x = element_text(size=15, angle = 45), \n",
    "          axis.text.y = element_text( size = 12, angle = 45), \n",
    "          text = element_text(face = \"bold\", size = 15)) \n",
    "cd_plot"
   ]
  },
  {
   "cell_type": "markdown",
   "metadata": {},
   "source": [
    "* **Plot the relevant raw data, tailoring your plot in a way that addresses your question.**\n",
    "\n",
    "Now we look at the bootstrapped sampling distribution for our hypothesis testing. "
   ]
  },
  {
   "cell_type": "code",
   "execution_count": null,
   "metadata": {},
   "outputs": [],
   "source": [
    "options(repr.plot.width = 10, repr.plot.height = 10)\n",
    "\n",
    "theft_of_vehicle_bootstrap <- crime_data_sort %>%\n",
    "                    filter(TYPE==\"Theft of Vehicle\" ) %>%\n",
    "                    rep_sample_n(size = 30, reps=10000, replace = TRUE)\n",
    "\n",
    "sampling_dist_theftof <- theft_of_vehicle_bootstrap %>%\n",
    "                    group_by(replicate)%>%\n",
    "                    summarize(mean = mean(HOUR))\n",
    "sampling_dist_plot <- sampling_dist_theftof %>%\n",
    "                ggplot() + \n",
    "                geom_histogram(aes(mean), bins = 15, color=\"white\") +\n",
    "                xlab(\"mean time of theft from vehicle\") + \n",
    "                theme(text = element_text(size=15)) + \n",
    "                ggtitle(\"Bootstrapped sampling dist.\", subtitle = \"mean time of theft from vehicle\") \n",
    "\n",
    "\n",
    "head(theft_of_vehicle_bootstrap)\n",
    "head(sampling_dist_theftof)\n",
    "sampling_dist_plot"
   ]
  },
  {
   "cell_type": "code",
   "execution_count": null,
   "metadata": {},
   "outputs": [],
   "source": [
    "options(repr.plot.width = 10, repr.plot.height = 10)\n",
    "\n",
    "vehical_col_inj_bootstrap <- crime_data_sort %>%\n",
    "                    filter(TYPE==\"Vehicle Collision or Pedestrian Struck (with Injury)\" ) %>%\n",
    "                    rep_sample_n(size = 30, reps=10000, replace = TRUE)\n",
    "\n",
    "sampling_dist_vc_inj <- vehical_col_inj_bootstrap %>%\n",
    "                    group_by(replicate)%>%\n",
    "                    summarize(mean = mean(HOUR))\n",
    "sampling_dist_plot_vc <- sampling_dist_vc_inj %>%\n",
    "                ggplot() + \n",
    "                geom_histogram(aes(mean), bins = 15, color=\"white\") +\n",
    "                xlab(\"mean time at which vehicle collision occured\") + \n",
    "                theme(text = element_text(size=15)) + \n",
    "                ggtitle(\"Bootstrapped sampling dist.\", subtitle = \"mean time at which vehicle collision occured\") \n",
    "\n",
    "\n",
    "head(vehical_col_inj_bootstrap)\n",
    "head(sampling_dist_vc_inj)\n",
    "sampling_dist_plot_vc"
   ]
  },
  {
   "cell_type": "markdown",
   "metadata": {},
   "source": [
    "These bootstapped sample will help us estimate if the average time of occurance of the Theft of Vehicle is the same as Theft from Vehicle, and if the average time of occurece for Vehicle Collision or Pedestrian Struck (with Fatality) is more than the avVehicle Collision or Pedestrian  Struck (with Injury). "
   ]
  },
  {
   "cell_type": "markdown",
   "metadata": {},
   "source": [
    "**METHODS:**  \n",
    "\n",
    "The dataset was loaded from \"https://geodash.vpd.ca\", and has to intially be tidied up, sorted, filtered and then the attributes of interest have to be selected.\n",
    "\n",
    "Afterwards, we look at the basic summary statistics about the dataset (frequency/relative abundance of predictor type variables and result type variables) are generated to make sure the data is balanced and complete. A boxplot for the sample population is created, sample because irl we don't have access to entire population, is used to visualize the data distribution.   \n",
    "\n",
    "We then plan to collect bootstrap samples and visualize the samplign distributions of the means for our targetted attributes. We will conduct a one-tailed hypothesis test on whether vehicle collision or pedestrian struck with fatality occurs later than just that with injury, as well as a two-tailed one on if theft of vehicle and theft from vehicle occur at similar times. We will use the mean and standard deviation as descriptive statistics to make inferences, to arrive upon conclusions about whether differences exist, and what they are using confidence intervals.\n",
    "\n",
    "We expect our results to corroborate the alternate hypotheses - that car accidents involving death happen later than just ones with injury, since drivers tend to go at higher speeds at night, there is lower visibility and more drunk and reckless drivers on the road. And we expect that theft of vehicle and theft from vehicle doesn’t happen at around the same time of day on average as offense theft from vehicle can take place all throughout the day depending on the neighbourhood whereas theft of vehicle is likely to happen when it’s more isolated (perhaps later at night).\n",
    "\n",
    "It most crucially provides insight into how law enforcement could go about predicting the time during which certain types of crimes are likely to occur. The questions that arise for the future are many - other than time of day, what are other predictors we could look at; perhaps certain months when crime spikes? Also, if perhaps the month and time of day are related? Maybe crime could occur at earlier hours in the winter months because it gets dark sooner, etc."
   ]
  },
  {
   "cell_type": "markdown",
   "metadata": {},
   "source": [
    "**REFERNCES**\n",
    "\n",
    "Crimes that Happen While You Sleep. (2020, November 04). Retrieved from https://www.thesleepjudge.com/crimes-that-happen-while-you-sleep/\n",
    "\n",
    "Bannister J, O’Sullivan A, Bates E. Place and time in the Criminology of Place. Theoretical Criminology. 2019;23(3):315-332. doi:10.1177/1362480617733726\n",
    "\n",
    "Brands, J., Schwanen, T., & Aalst, I. V. (2013). Fear of crime and affective ambiguities in the night-time economy. Urban Studies, 52(3), 439-455. doi:10.1177/0042098013505652\n",
    "\n",
    "Vancouver Police Department: Crime Data. Retrieved from https://geodash.vpd.ca/opendata/\n",
    "\n",
    "Violent Crimes Most Likely to Occur At Night. (2019, June 14). Retrieved from https://www.securitymagazine.com/articles/90384-murder-robbery-and-driving-while-impaired-happen-at-night\n",
    "\n",
    "Violent Crime. (2018, September 10). Retrieved from https://ucr.fbi.gov/crime-in-the-u.s/2017/crime-in-the-u.s.-2017/topic-pages/violent-crime\n"
   ]
  }
 ],
 "metadata": {
  "kernelspec": {
   "display_name": "R",
   "language": "R",
   "name": "ir"
  },
  "language_info": {
   "codemirror_mode": "r",
   "file_extension": ".r",
   "mimetype": "text/x-r-source",
   "name": "R",
   "pygments_lexer": "r",
   "version": "4.0.0"
  }
 },
 "nbformat": 4,
 "nbformat_minor": 4
}
